{
  "nbformat": 4,
  "nbformat_minor": 0,
  "metadata": {
    "colab": {
      "name": "Resnet-test.ipynb",
      "provenance": []
    },
    "kernelspec": {
      "name": "python3",
      "display_name": "Python 3"
    },
    "language_info": {
      "name": "python"
    },
    "accelerator": "GPU",
    "widgets": {
      "application/vnd.jupyter.widget-state+json": {
        "daa7535e876a480e9c37a91972cfdbd5": {
          "model_module": "@jupyter-widgets/controls",
          "model_name": "HBoxModel",
          "state": {
            "_view_name": "HBoxView",
            "_dom_classes": [],
            "_model_name": "HBoxModel",
            "_view_module": "@jupyter-widgets/controls",
            "_model_module_version": "1.5.0",
            "_view_count": null,
            "_view_module_version": "1.5.0",
            "box_style": "",
            "layout": "IPY_MODEL_09efb48c000d4d109dab543040417647",
            "_model_module": "@jupyter-widgets/controls",
            "children": [
              "IPY_MODEL_d829671235c34f4e8f6590e016e9f647",
              "IPY_MODEL_35d3bc03274a4eba8af11c0d85f889a9"
            ]
          }
        },
        "09efb48c000d4d109dab543040417647": {
          "model_module": "@jupyter-widgets/base",
          "model_name": "LayoutModel",
          "state": {
            "_view_name": "LayoutView",
            "grid_template_rows": null,
            "right": null,
            "justify_content": null,
            "_view_module": "@jupyter-widgets/base",
            "overflow": null,
            "_model_module_version": "1.2.0",
            "_view_count": null,
            "flex_flow": null,
            "width": null,
            "min_width": null,
            "border": null,
            "align_items": null,
            "bottom": null,
            "_model_module": "@jupyter-widgets/base",
            "top": null,
            "grid_column": null,
            "overflow_y": null,
            "overflow_x": null,
            "grid_auto_flow": null,
            "grid_area": null,
            "grid_template_columns": null,
            "flex": null,
            "_model_name": "LayoutModel",
            "justify_items": null,
            "grid_row": null,
            "max_height": null,
            "align_content": null,
            "visibility": null,
            "align_self": null,
            "height": null,
            "min_height": null,
            "padding": null,
            "grid_auto_rows": null,
            "grid_gap": null,
            "max_width": null,
            "order": null,
            "_view_module_version": "1.2.0",
            "grid_template_areas": null,
            "object_position": null,
            "object_fit": null,
            "grid_auto_columns": null,
            "margin": null,
            "display": null,
            "left": null
          }
        },
        "d829671235c34f4e8f6590e016e9f647": {
          "model_module": "@jupyter-widgets/controls",
          "model_name": "FloatProgressModel",
          "state": {
            "_view_name": "ProgressView",
            "style": "IPY_MODEL_392f1dca9bf942ac9cc5f042941a46d1",
            "_dom_classes": [],
            "description": "100%",
            "_model_name": "FloatProgressModel",
            "bar_style": "success",
            "max": 46827520,
            "_view_module": "@jupyter-widgets/controls",
            "_model_module_version": "1.5.0",
            "value": 46827520,
            "_view_count": null,
            "_view_module_version": "1.5.0",
            "orientation": "horizontal",
            "min": 0,
            "description_tooltip": null,
            "_model_module": "@jupyter-widgets/controls",
            "layout": "IPY_MODEL_3edc35ca2bc74b6291264d2850b17ba8"
          }
        },
        "35d3bc03274a4eba8af11c0d85f889a9": {
          "model_module": "@jupyter-widgets/controls",
          "model_name": "HTMLModel",
          "state": {
            "_view_name": "HTMLView",
            "style": "IPY_MODEL_d928309ecf7643eebf0387065185bd55",
            "_dom_classes": [],
            "description": "",
            "_model_name": "HTMLModel",
            "placeholder": "​",
            "_view_module": "@jupyter-widgets/controls",
            "_model_module_version": "1.5.0",
            "value": " 44.7M/44.7M [01:46&lt;00:00, 440kB/s]",
            "_view_count": null,
            "_view_module_version": "1.5.0",
            "description_tooltip": null,
            "_model_module": "@jupyter-widgets/controls",
            "layout": "IPY_MODEL_84a974dde90045c39d6a43579ae082e3"
          }
        },
        "392f1dca9bf942ac9cc5f042941a46d1": {
          "model_module": "@jupyter-widgets/controls",
          "model_name": "ProgressStyleModel",
          "state": {
            "_view_name": "StyleView",
            "_model_name": "ProgressStyleModel",
            "description_width": "initial",
            "_view_module": "@jupyter-widgets/base",
            "_model_module_version": "1.5.0",
            "_view_count": null,
            "_view_module_version": "1.2.0",
            "bar_color": null,
            "_model_module": "@jupyter-widgets/controls"
          }
        },
        "3edc35ca2bc74b6291264d2850b17ba8": {
          "model_module": "@jupyter-widgets/base",
          "model_name": "LayoutModel",
          "state": {
            "_view_name": "LayoutView",
            "grid_template_rows": null,
            "right": null,
            "justify_content": null,
            "_view_module": "@jupyter-widgets/base",
            "overflow": null,
            "_model_module_version": "1.2.0",
            "_view_count": null,
            "flex_flow": null,
            "width": null,
            "min_width": null,
            "border": null,
            "align_items": null,
            "bottom": null,
            "_model_module": "@jupyter-widgets/base",
            "top": null,
            "grid_column": null,
            "overflow_y": null,
            "overflow_x": null,
            "grid_auto_flow": null,
            "grid_area": null,
            "grid_template_columns": null,
            "flex": null,
            "_model_name": "LayoutModel",
            "justify_items": null,
            "grid_row": null,
            "max_height": null,
            "align_content": null,
            "visibility": null,
            "align_self": null,
            "height": null,
            "min_height": null,
            "padding": null,
            "grid_auto_rows": null,
            "grid_gap": null,
            "max_width": null,
            "order": null,
            "_view_module_version": "1.2.0",
            "grid_template_areas": null,
            "object_position": null,
            "object_fit": null,
            "grid_auto_columns": null,
            "margin": null,
            "display": null,
            "left": null
          }
        },
        "d928309ecf7643eebf0387065185bd55": {
          "model_module": "@jupyter-widgets/controls",
          "model_name": "DescriptionStyleModel",
          "state": {
            "_view_name": "StyleView",
            "_model_name": "DescriptionStyleModel",
            "description_width": "",
            "_view_module": "@jupyter-widgets/base",
            "_model_module_version": "1.5.0",
            "_view_count": null,
            "_view_module_version": "1.2.0",
            "_model_module": "@jupyter-widgets/controls"
          }
        },
        "84a974dde90045c39d6a43579ae082e3": {
          "model_module": "@jupyter-widgets/base",
          "model_name": "LayoutModel",
          "state": {
            "_view_name": "LayoutView",
            "grid_template_rows": null,
            "right": null,
            "justify_content": null,
            "_view_module": "@jupyter-widgets/base",
            "overflow": null,
            "_model_module_version": "1.2.0",
            "_view_count": null,
            "flex_flow": null,
            "width": null,
            "min_width": null,
            "border": null,
            "align_items": null,
            "bottom": null,
            "_model_module": "@jupyter-widgets/base",
            "top": null,
            "grid_column": null,
            "overflow_y": null,
            "overflow_x": null,
            "grid_auto_flow": null,
            "grid_area": null,
            "grid_template_columns": null,
            "flex": null,
            "_model_name": "LayoutModel",
            "justify_items": null,
            "grid_row": null,
            "max_height": null,
            "align_content": null,
            "visibility": null,
            "align_self": null,
            "height": null,
            "min_height": null,
            "padding": null,
            "grid_auto_rows": null,
            "grid_gap": null,
            "max_width": null,
            "order": null,
            "_view_module_version": "1.2.0",
            "grid_template_areas": null,
            "object_position": null,
            "object_fit": null,
            "grid_auto_columns": null,
            "margin": null,
            "display": null,
            "left": null
          }
        }
      }
    }
  },
  "cells": [
    {
      "cell_type": "code",
      "metadata": {
        "id": "oIYSc5A5DVty"
      },
      "source": [
        "# %load_ext autoreload\n",
        "# %autoreload 2\n",
        "\n",
        "import numpy as np\n",
        "import matplotlib.pyplot as plt\n",
        "import time\n",
        "import copy \n",
        "import os\n",
        "\n",
        "import torch\n",
        "import torchvision\n",
        "\n",
        "import pandas as pd\n",
        "import sklearn\n",
        "\n",
        "from torchvision import transforms, utils\n",
        "import PIL\n",
        "from torch.autograd import Variable\n",
        "\n",
        "\n",
        "import torch.nn as nn\n",
        "import torch.optim as optim\n",
        "import torchvision.models as models"
      ],
      "execution_count": 35,
      "outputs": []
    },
    {
      "cell_type": "code",
      "metadata": {
        "colab": {
          "base_uri": "https://localhost:8080/"
        },
        "id": "ELhEao6tCIUm",
        "outputId": "45b92cc3-d8a5-4998-ea24-cc1633ba31df"
      },
      "source": [
        "!pip install efficientnet_pytorch\n",
        "from efficientnet_pytorch import EfficientNet"
      ],
      "execution_count": 2,
      "outputs": [
        {
          "output_type": "stream",
          "text": [
            "Collecting efficientnet_pytorch\n",
            "  Downloading https://files.pythonhosted.org/packages/2e/a0/dd40b50aebf0028054b6b35062948da01123d7be38d08b6b1e5435df6363/efficientnet_pytorch-0.7.1.tar.gz\n",
            "Requirement already satisfied: torch in /usr/local/lib/python3.7/dist-packages (from efficientnet_pytorch) (1.8.1+cu101)\n",
            "Requirement already satisfied: numpy in /usr/local/lib/python3.7/dist-packages (from torch->efficientnet_pytorch) (1.19.5)\n",
            "Requirement already satisfied: typing-extensions in /usr/local/lib/python3.7/dist-packages (from torch->efficientnet_pytorch) (3.7.4.3)\n",
            "Building wheels for collected packages: efficientnet-pytorch\n",
            "  Building wheel for efficientnet-pytorch (setup.py) ... \u001b[?25l\u001b[?25hdone\n",
            "  Created wheel for efficientnet-pytorch: filename=efficientnet_pytorch-0.7.1-cp37-none-any.whl size=16443 sha256=bf6dc201d8128c506bfa16a4951535d9725d66eecf77e7da045d74987558d8c9\n",
            "  Stored in directory: /root/.cache/pip/wheels/84/27/aa/c46d23c4e8cc72d41283862b1437e0b3ad318417e8ed7d5921\n",
            "Successfully built efficientnet-pytorch\n",
            "Installing collected packages: efficientnet-pytorch\n",
            "Successfully installed efficientnet-pytorch-0.7.1\n"
          ],
          "name": "stdout"
        }
      ]
    },
    {
      "cell_type": "code",
      "metadata": {
        "colab": {
          "base_uri": "https://localhost:8080/"
        },
        "id": "RJw-ykSkDgzf",
        "outputId": "7e514b59-1b7f-4d4c-e69c-0d4a4c3b0e19"
      },
      "source": [
        "from google.colab import drive\n",
        "drive.mount('/content/drive')"
      ],
      "execution_count": 3,
      "outputs": [
        {
          "output_type": "stream",
          "text": [
            "Mounted at /content/drive\n"
          ],
          "name": "stdout"
        }
      ]
    },
    {
      "cell_type": "code",
      "metadata": {
        "id": "hj4XaMLPDkT0"
      },
      "source": [
        "!mkdir -p data\n",
        "!cp '/content/drive/Shareddrives/UCI CS175 Team23/training_solutions_rev1.csv' ./data/\n",
        "!unzip -q -u '/content/drive/Shareddrives/UCI CS175 Team23/images_training_rev1.zip' -d ./data/"
      ],
      "execution_count": 4,
      "outputs": []
    },
    {
      "cell_type": "code",
      "metadata": {
        "colab": {
          "base_uri": "https://localhost:8080/"
        },
        "id": "2Fa5PEPbDk_F",
        "outputId": "6ef543d5-8c0b-45ac-816e-4d05129792a3"
      },
      "source": [
        "!ls data"
      ],
      "execution_count": 36,
      "outputs": [
        {
          "output_type": "stream",
          "text": [
            "images_test_rev1      images_training_rev1\n",
            "images_test_rev1.zip  training_solutions_rev1.csv\n"
          ],
          "name": "stdout"
        }
      ]
    },
    {
      "cell_type": "code",
      "metadata": {
        "id": "6Vh2DjHKHb2Q"
      },
      "source": [
        "training_data_path = '/content/data/images_training_rev1'\n",
        "solution_path = '/content/data/training_solutions_rev1.csv'"
      ],
      "execution_count": 6,
      "outputs": []
    },
    {
      "cell_type": "code",
      "metadata": {
        "id": "_MSic1brG-i6"
      },
      "source": [
        "df = pd.read_csv(solution_path)"
      ],
      "execution_count": 7,
      "outputs": []
    },
    {
      "cell_type": "code",
      "metadata": {
        "colab": {
          "base_uri": "https://localhost:8080/",
          "height": 224
        },
        "id": "5SJtyi2lG-2-",
        "outputId": "0084c048-7368-4be5-83b6-f4545f40a11e"
      },
      "source": [
        "df.head()"
      ],
      "execution_count": 22,
      "outputs": [
        {
          "output_type": "execute_result",
          "data": {
            "text/html": [
              "<div>\n",
              "<style scoped>\n",
              "    .dataframe tbody tr th:only-of-type {\n",
              "        vertical-align: middle;\n",
              "    }\n",
              "\n",
              "    .dataframe tbody tr th {\n",
              "        vertical-align: top;\n",
              "    }\n",
              "\n",
              "    .dataframe thead th {\n",
              "        text-align: right;\n",
              "    }\n",
              "</style>\n",
              "<table border=\"1\" class=\"dataframe\">\n",
              "  <thead>\n",
              "    <tr style=\"text-align: right;\">\n",
              "      <th></th>\n",
              "      <th>GalaxyID</th>\n",
              "      <th>Class1.1</th>\n",
              "      <th>Class1.2</th>\n",
              "      <th>Class1.3</th>\n",
              "      <th>Class2.1</th>\n",
              "      <th>Class2.2</th>\n",
              "      <th>Class3.1</th>\n",
              "      <th>Class3.2</th>\n",
              "      <th>Class4.1</th>\n",
              "      <th>Class4.2</th>\n",
              "      <th>Class5.1</th>\n",
              "      <th>Class5.2</th>\n",
              "      <th>Class5.3</th>\n",
              "      <th>Class5.4</th>\n",
              "      <th>Class6.1</th>\n",
              "      <th>Class6.2</th>\n",
              "      <th>Class7.1</th>\n",
              "      <th>Class7.2</th>\n",
              "      <th>Class7.3</th>\n",
              "      <th>Class8.1</th>\n",
              "      <th>Class8.2</th>\n",
              "      <th>Class8.3</th>\n",
              "      <th>Class8.4</th>\n",
              "      <th>Class8.5</th>\n",
              "      <th>Class8.6</th>\n",
              "      <th>Class8.7</th>\n",
              "      <th>Class9.1</th>\n",
              "      <th>Class9.2</th>\n",
              "      <th>Class9.3</th>\n",
              "      <th>Class10.1</th>\n",
              "      <th>Class10.2</th>\n",
              "      <th>Class10.3</th>\n",
              "      <th>Class11.1</th>\n",
              "      <th>Class11.2</th>\n",
              "      <th>Class11.3</th>\n",
              "      <th>Class11.4</th>\n",
              "      <th>Class11.5</th>\n",
              "      <th>Class11.6</th>\n",
              "    </tr>\n",
              "  </thead>\n",
              "  <tbody>\n",
              "    <tr>\n",
              "      <th>0</th>\n",
              "      <td>100008</td>\n",
              "      <td>0.383147</td>\n",
              "      <td>0.616853</td>\n",
              "      <td>0.000000</td>\n",
              "      <td>0.000000</td>\n",
              "      <td>0.616853</td>\n",
              "      <td>0.038452</td>\n",
              "      <td>0.578401</td>\n",
              "      <td>0.418398</td>\n",
              "      <td>0.198455</td>\n",
              "      <td>0.0</td>\n",
              "      <td>0.104752</td>\n",
              "      <td>0.512101</td>\n",
              "      <td>0.000000</td>\n",
              "      <td>0.054453</td>\n",
              "      <td>0.945547</td>\n",
              "      <td>0.201463</td>\n",
              "      <td>0.181684</td>\n",
              "      <td>0.000000</td>\n",
              "      <td>0.0</td>\n",
              "      <td>0.027226</td>\n",
              "      <td>0.000000</td>\n",
              "      <td>0.027226</td>\n",
              "      <td>0.000000</td>\n",
              "      <td>0.000000</td>\n",
              "      <td>0.0</td>\n",
              "      <td>0.000000</td>\n",
              "      <td>0.0</td>\n",
              "      <td>0.000000</td>\n",
              "      <td>0.279952</td>\n",
              "      <td>0.138445</td>\n",
              "      <td>0.000000</td>\n",
              "      <td>0.000000</td>\n",
              "      <td>0.092886</td>\n",
              "      <td>0.0</td>\n",
              "      <td>0.0</td>\n",
              "      <td>0.0</td>\n",
              "      <td>0.325512</td>\n",
              "    </tr>\n",
              "    <tr>\n",
              "      <th>1</th>\n",
              "      <td>100023</td>\n",
              "      <td>0.327001</td>\n",
              "      <td>0.663777</td>\n",
              "      <td>0.009222</td>\n",
              "      <td>0.031178</td>\n",
              "      <td>0.632599</td>\n",
              "      <td>0.467370</td>\n",
              "      <td>0.165229</td>\n",
              "      <td>0.591328</td>\n",
              "      <td>0.041271</td>\n",
              "      <td>0.0</td>\n",
              "      <td>0.236781</td>\n",
              "      <td>0.160941</td>\n",
              "      <td>0.234877</td>\n",
              "      <td>0.189149</td>\n",
              "      <td>0.810851</td>\n",
              "      <td>0.000000</td>\n",
              "      <td>0.135082</td>\n",
              "      <td>0.191919</td>\n",
              "      <td>0.0</td>\n",
              "      <td>0.000000</td>\n",
              "      <td>0.140353</td>\n",
              "      <td>0.000000</td>\n",
              "      <td>0.048796</td>\n",
              "      <td>0.000000</td>\n",
              "      <td>0.0</td>\n",
              "      <td>0.012414</td>\n",
              "      <td>0.0</td>\n",
              "      <td>0.018764</td>\n",
              "      <td>0.000000</td>\n",
              "      <td>0.131378</td>\n",
              "      <td>0.459950</td>\n",
              "      <td>0.000000</td>\n",
              "      <td>0.591328</td>\n",
              "      <td>0.0</td>\n",
              "      <td>0.0</td>\n",
              "      <td>0.0</td>\n",
              "      <td>0.000000</td>\n",
              "    </tr>\n",
              "    <tr>\n",
              "      <th>2</th>\n",
              "      <td>100053</td>\n",
              "      <td>0.765717</td>\n",
              "      <td>0.177352</td>\n",
              "      <td>0.056931</td>\n",
              "      <td>0.000000</td>\n",
              "      <td>0.177352</td>\n",
              "      <td>0.000000</td>\n",
              "      <td>0.177352</td>\n",
              "      <td>0.000000</td>\n",
              "      <td>0.177352</td>\n",
              "      <td>0.0</td>\n",
              "      <td>0.117790</td>\n",
              "      <td>0.059562</td>\n",
              "      <td>0.000000</td>\n",
              "      <td>0.000000</td>\n",
              "      <td>1.000000</td>\n",
              "      <td>0.000000</td>\n",
              "      <td>0.741864</td>\n",
              "      <td>0.023853</td>\n",
              "      <td>0.0</td>\n",
              "      <td>0.000000</td>\n",
              "      <td>0.000000</td>\n",
              "      <td>0.000000</td>\n",
              "      <td>0.000000</td>\n",
              "      <td>0.000000</td>\n",
              "      <td>0.0</td>\n",
              "      <td>0.000000</td>\n",
              "      <td>0.0</td>\n",
              "      <td>0.000000</td>\n",
              "      <td>0.000000</td>\n",
              "      <td>0.000000</td>\n",
              "      <td>0.000000</td>\n",
              "      <td>0.000000</td>\n",
              "      <td>0.000000</td>\n",
              "      <td>0.0</td>\n",
              "      <td>0.0</td>\n",
              "      <td>0.0</td>\n",
              "      <td>0.000000</td>\n",
              "    </tr>\n",
              "    <tr>\n",
              "      <th>3</th>\n",
              "      <td>100078</td>\n",
              "      <td>0.693377</td>\n",
              "      <td>0.238564</td>\n",
              "      <td>0.068059</td>\n",
              "      <td>0.000000</td>\n",
              "      <td>0.238564</td>\n",
              "      <td>0.109493</td>\n",
              "      <td>0.129071</td>\n",
              "      <td>0.189098</td>\n",
              "      <td>0.049466</td>\n",
              "      <td>0.0</td>\n",
              "      <td>0.000000</td>\n",
              "      <td>0.113284</td>\n",
              "      <td>0.125280</td>\n",
              "      <td>0.320398</td>\n",
              "      <td>0.679602</td>\n",
              "      <td>0.408599</td>\n",
              "      <td>0.284778</td>\n",
              "      <td>0.000000</td>\n",
              "      <td>0.0</td>\n",
              "      <td>0.000000</td>\n",
              "      <td>0.096119</td>\n",
              "      <td>0.096119</td>\n",
              "      <td>0.000000</td>\n",
              "      <td>0.128159</td>\n",
              "      <td>0.0</td>\n",
              "      <td>0.000000</td>\n",
              "      <td>0.0</td>\n",
              "      <td>0.000000</td>\n",
              "      <td>0.094549</td>\n",
              "      <td>0.000000</td>\n",
              "      <td>0.094549</td>\n",
              "      <td>0.189098</td>\n",
              "      <td>0.000000</td>\n",
              "      <td>0.0</td>\n",
              "      <td>0.0</td>\n",
              "      <td>0.0</td>\n",
              "      <td>0.000000</td>\n",
              "    </tr>\n",
              "    <tr>\n",
              "      <th>4</th>\n",
              "      <td>100090</td>\n",
              "      <td>0.933839</td>\n",
              "      <td>0.000000</td>\n",
              "      <td>0.066161</td>\n",
              "      <td>0.000000</td>\n",
              "      <td>0.000000</td>\n",
              "      <td>0.000000</td>\n",
              "      <td>0.000000</td>\n",
              "      <td>0.000000</td>\n",
              "      <td>0.000000</td>\n",
              "      <td>0.0</td>\n",
              "      <td>0.000000</td>\n",
              "      <td>0.000000</td>\n",
              "      <td>0.000000</td>\n",
              "      <td>0.029383</td>\n",
              "      <td>0.970617</td>\n",
              "      <td>0.494587</td>\n",
              "      <td>0.439252</td>\n",
              "      <td>0.000000</td>\n",
              "      <td>0.0</td>\n",
              "      <td>0.000000</td>\n",
              "      <td>0.000000</td>\n",
              "      <td>0.000000</td>\n",
              "      <td>0.000000</td>\n",
              "      <td>0.029383</td>\n",
              "      <td>0.0</td>\n",
              "      <td>0.000000</td>\n",
              "      <td>0.0</td>\n",
              "      <td>0.000000</td>\n",
              "      <td>0.000000</td>\n",
              "      <td>0.000000</td>\n",
              "      <td>0.000000</td>\n",
              "      <td>0.000000</td>\n",
              "      <td>0.000000</td>\n",
              "      <td>0.0</td>\n",
              "      <td>0.0</td>\n",
              "      <td>0.0</td>\n",
              "      <td>0.000000</td>\n",
              "    </tr>\n",
              "  </tbody>\n",
              "</table>\n",
              "</div>"
            ],
            "text/plain": [
              "   GalaxyID  Class1.1  Class1.2  ...  Class11.4  Class11.5  Class11.6\n",
              "0    100008  0.383147  0.616853  ...        0.0        0.0   0.325512\n",
              "1    100023  0.327001  0.663777  ...        0.0        0.0   0.000000\n",
              "2    100053  0.765717  0.177352  ...        0.0        0.0   0.000000\n",
              "3    100078  0.693377  0.238564  ...        0.0        0.0   0.000000\n",
              "4    100090  0.933839  0.000000  ...        0.0        0.0   0.000000\n",
              "\n",
              "[5 rows x 38 columns]"
            ]
          },
          "metadata": {
            "tags": []
          },
          "execution_count": 22
        }
      ]
    },
    {
      "cell_type": "code",
      "metadata": {
        "colab": {
          "base_uri": "https://localhost:8080/",
          "height": 286
        },
        "id": "LF7JPg4KLNjS",
        "outputId": "069b510d-701a-4ed1-c95f-2cf6b1de5390"
      },
      "source": [
        "plt.imshow(plt.imread(training_data_path + \"/\" + str(df[\"GalaxyID\"][7]) + \".jpg\"))"
      ],
      "execution_count": 123,
      "outputs": [
        {
          "output_type": "execute_result",
          "data": {
            "text/plain": [
              "<matplotlib.image.AxesImage at 0x7fbba0d1b050>"
            ]
          },
          "metadata": {
            "tags": []
          },
          "execution_count": 123
        },
        {
          "output_type": "display_data",
          "data": {
            "image/png": "[encoded data removed]",
            "text/plain": [
              "<Figure size 432x288 with 1 Axes>"
            ]
          },
          "metadata": {
            "tags": [],
            "needs_background": "light"
          }
        }
      ]
    },
    {
      "cell_type": "code",
      "metadata": {
        "id": "26xKnFbMKBib"
      },
      "source": [
        "# reference: https://pytorch.org/tutorials/beginner/data_loading_tutorial.html\n",
        "class GalaxyDataset(torch.utils.data.Dataset):\n",
        "  def __init__(self, csv_file, usr_root_dir, usr_transforms=None):\n",
        "    self.solution = pd.read_csv(solution_path)\n",
        "    self.root_dir = usr_root_dir\n",
        "    self.transforms = usr_transforms\n",
        "\n",
        "  def __len__(self):\n",
        "    return len(self.solution)\n",
        "  \n",
        "  def __getitem__(self, idx):\n",
        "    if torch.is_tensor(idx):\n",
        "      idx = idx.tolist()\n",
        "    \n",
        "    img_name = self.root_dir + \"/\" + str(self.solution.iloc[idx,0]) + \".jpg\"\n",
        "    id = self.solution.iloc[idx,0]\n",
        "    #image = plt.imread(img_name).T\n",
        "    image = PIL.Image.open((img_name))\n",
        "    image = self.transforms(image)\n",
        "    proba = self.solution.iloc[idx,1:].to_numpy()\n",
        "    #image = np.moveaxis(image.numpy()*255, 0, -1).astype(\"uint8\")\n",
        "    return  image, proba, id"
      ],
      "execution_count": 37,
      "outputs": []
    },
    {
      "cell_type": "code",
      "metadata": {
        "id": "sCAa_3yIRyWd"
      },
      "source": [
        "galaxy_transform = transforms.Compose([\n",
        "    transforms.CenterCrop(224),\n",
        "    transforms.Resize(int(224/2)),\n",
        "    transforms.RandomVerticalFlip(),\n",
        "    transforms.RandomHorizontalFlip(),\n",
        "    transforms.RandomAffine(50),\n",
        "    transforms.ToTensor()\n",
        "    ])\n",
        "\n",
        "tri_full = GalaxyDataset(solution_path, training_data_path, galaxy_transform)"
      ],
      "execution_count": 38,
      "outputs": []
    },
    {
      "cell_type": "code",
      "metadata": {
        "id": "HVKmAwrcSDgf"
      },
      "source": [
        "def show_image(sample_image):\n",
        "  example_img = np.moveaxis(sample_image.numpy()*255, 0, -1).astype(\"uint8\")\n",
        "  plt.imshow(example_img)\n"
      ],
      "execution_count": 39,
      "outputs": []
    },
    {
      "cell_type": "code",
      "metadata": {
        "colab": {
          "base_uri": "https://localhost:8080/",
          "height": 268
        },
        "id": "w7SzGkaKqOss",
        "outputId": "ecfd496d-aa4d-4016-e5e9-81f294f5481a"
      },
      "source": [
        "#show_image(tri_full[np.random.choice(40000)][0])\n",
        "show_image(tri_full[7][0])"
      ],
      "execution_count": 124,
      "outputs": [
        {
          "output_type": "display_data",
          "data": {
            "image/png": "[encoded data removed]",
            "text/plain": [
              "<Figure size 432x288 with 1 Axes>"
            ]
          },
          "metadata": {
            "tags": [],
            "needs_background": "light"
          }
        }
      ]
    },
    {
      "cell_type": "code",
      "metadata": {
        "id": "LXSEqdHBKZZQ"
      },
      "source": [
        "a, b = torch.utils.data.random_split(tri_full, [43104, 18474], torch.Generator().manual_seed(1234))\n",
        "\n",
        "loader_train = torch.utils.data.DataLoader(a, batch_size=64)\n",
        "loader_valid = torch.utils.data.DataLoader(b)\n",
        "\n",
        "loader_train_full = torch.utils.data.DataLoader(tri_full, batch_size=200)\n",
        "\n",
        "gpu_dtype = torch.cuda.FloatTensor"
      ],
      "execution_count": 47,
      "outputs": []
    },
    {
      "cell_type": "code",
      "metadata": {
        "id": "sKMEywy1aTCE"
      },
      "source": [
        "def custom_train(model, loader, loss_fn, optimizer, num_epochs = 1):\n",
        "    epoch_log = []\n",
        "    for epoch in range(num_epochs):\n",
        "        print('Starting epoch %d / %d' % (epoch + 1, num_epochs))\n",
        "        model.train()\n",
        "\n",
        "        t_log = []\n",
        "        for t, (x, y, _) in enumerate(loader):\n",
        "            x_var = Variable(x.type(gpu_dtype))\n",
        "            y_var = Variable(y.type(gpu_dtype))\n",
        "            \n",
        "            scores = model(x_var)\n",
        "            loss = loss_fn(scores, y_var)\n",
        "            \n",
        "            if (t + 1) % 500 == 0:\n",
        "                print('t = %d, loss = %.4f' % (t + 1, loss.item()))\n",
        "            t_log.append(loss.item())\n",
        "\n",
        "            optimizer.zero_grad()\n",
        "            loss.backward()\n",
        "            optimizer.step()\n",
        "\n",
        "        epoch_log.append(max(t_log))   \n",
        "    \n",
        "    fig = plt.figure(figsize=(7,7))\n",
        "    plt.plot(epoch_log)\n",
        "    plt.ylim(0, 3)\n",
        "    plt.title(\"Training Loss\")\n",
        "    plt.xlabel(\"Epochs\")\n",
        "    plt.ylabel(\"Loss\")\n",
        "    return epoch_log"
      ],
      "execution_count": 48,
      "outputs": []
    },
    {
      "cell_type": "code",
      "metadata": {
        "id": "zk8z2aQsoX-D"
      },
      "source": [
        "def check_accuracy(model, loader, num_sample):\n",
        "    model.eval() \n",
        "    #temp = torch.ones([1,37]).type(gpu_dtype)\n",
        "    temp = 0\n",
        "    count = 0\n",
        "    with torch.no_grad():\n",
        "      for x, y, id in loader:\n",
        "          # \n",
        "          x_var = Variable(x.type(gpu_dtype))\n",
        "          y_var = Variable(y.type(gpu_dtype))\n",
        "          \n",
        "          scores = model(x_var)\n",
        "          scores[scores < 0] = 0\n",
        "          diff = y_var - scores\n",
        "          \n",
        "\n",
        "          # print(scores)\n",
        "          # print(y_var)\n",
        "          # print(diff , \"\\n\")\n",
        "          #temp += torch.square(diff)\n",
        "          temp += torch.sqrt(torch.mean(torch.square(diff)))\n",
        "          #temp += diff\n",
        "          count += 1\n",
        "          if num_sample == count:\n",
        "            break\n",
        "    print(temp / num_sample)\n",
        "    #print(torch.sqrt(torch.mean(torch.div(temp, len(loader)))))\n",
        "    print( temp / len(loader) )\n",
        "    #print(torch.sqrt(torch.mean(torch.square(torch.div(temp, len(loader))))))\n",
        "  "
      ],
      "execution_count": 49,
      "outputs": []
    },
    {
      "cell_type": "code",
      "metadata": {
        "colab": {
          "base_uri": "https://localhost:8080/"
        },
        "id": "o--WLdfSlOfs",
        "outputId": "ff42e3ba-e23a-4586-f165-b45e63a29ba9"
      },
      "source": [
        "!cp '/content/drive/Shareddrives/UCI CS175 Team23/images_test_rev1.zip' ./data/\n",
        "!unzip -q -u '/content/drive/Shareddrives/UCI CS175 Team23/images_test_rev1.zip' -d ./data/\n",
        "!ls data"
      ],
      "execution_count": 50,
      "outputs": [
        {
          "output_type": "stream",
          "text": [
            "images_test_rev1      images_training_rev1\n",
            "images_test_rev1.zip  training_solutions_rev1.csv\n"
          ],
          "name": "stdout"
        }
      ]
    },
    {
      "cell_type": "code",
      "metadata": {
        "id": "_U9vWML7mNJp"
      },
      "source": [
        "class GalaxyTestDataset(torch.utils.data.Dataset):\n",
        "  def __init__(self, usr_root_dir, usr_transforms=None):\n",
        "    self.root_dir = usr_root_dir\n",
        "    self.transforms = usr_transforms\n",
        "    self.images_path = os.listdir(usr_root_dir)\n",
        "\n",
        "  def __len__(self):\n",
        "    return len(self.images_path)\n",
        "  \n",
        "  def __getitem__(self, idx):\n",
        "    if torch.is_tensor(idx):\n",
        "      idx = idx.tolist()\n",
        "\n",
        "    self.images_path.sort()\n",
        "    file_paths = self.images_path\n",
        "    img_name = self.root_dir + \"/\" + file_paths[idx]\n",
        "    id = int(file_paths[idx].split(\".\")[0])\n",
        "\n",
        "    image = PIL.Image.open((img_name))\n",
        "    image = self.transforms(image)\n",
        "\n",
        "    return  image, id"
      ],
      "execution_count": 51,
      "outputs": []
    },
    {
      "cell_type": "code",
      "metadata": {
        "id": "OVls_sJP9UIs"
      },
      "source": [
        "def write_prediction(model, loader, output_name, header_list):\n",
        "  model.eval() \n",
        "  num_sample = len(loader)\n",
        "\n",
        "  numpy_temp = np.ones((num_sample, 38))\n",
        "\n",
        "  count = 0\n",
        "  with torch.no_grad():\n",
        "    for x, id in loader:\n",
        "        x_var = Variable(x.type(gpu_dtype))\n",
        "\n",
        "        scores = model(x_var)\n",
        "        scores[scores < 0] = 0\n",
        "        scores[scores > 1] = 1\n",
        "        \n",
        "        scores_numpy = scores.cpu().detach().numpy()\n",
        "\n",
        "        \n",
        "        numpy_temp[count][0] = id\n",
        "        numpy_temp[count][1:] = scores_numpy\n",
        "\n",
        "        count += 1\n",
        "\n",
        "        if count == 10:\n",
        "          break\n",
        "\n",
        "  something = pd.DataFrame(numpy_temp)\n",
        "\n",
        "  something.columns = header_list\n",
        "  something = something.astype({\"GalaxyID\": \"int64\"})\n",
        "\n",
        "  print(something.head(10))\n",
        "\n",
        "  #something.to_csv(output_name,  index=False)\n",
        "\n",
        "  return numpy_temp"
      ],
      "execution_count": 116,
      "outputs": []
    },
    {
      "cell_type": "code",
      "metadata": {
        "colab": {
          "base_uri": "https://localhost:8080/",
          "height": 83,
          "referenced_widgets": [
            "daa7535e876a480e9c37a91972cfdbd5",
            "09efb48c000d4d109dab543040417647",
            "d829671235c34f4e8f6590e016e9f647",
            "35d3bc03274a4eba8af11c0d85f889a9",
            "392f1dca9bf942ac9cc5f042941a46d1",
            "3edc35ca2bc74b6291264d2850b17ba8",
            "d928309ecf7643eebf0387065185bd55",
            "84a974dde90045c39d6a43579ae082e3"
          ]
        },
        "id": "bDZgEXrIe_Y9",
        "outputId": "8a94404f-46a0-43ee-858e-7e2149237f95"
      },
      "source": [
        "resnet = models.resnet18(pretrained=True)\n",
        "resnet.fc = nn.Linear(512, 37)\n",
        "resnet.cuda()\n",
        "opt = optim.SGD(resnet.parameters(), lr = 0.1)"
      ],
      "execution_count": 54,
      "outputs": [
        {
          "output_type": "stream",
          "text": [
            "Downloading: \"https://download.pytorch.org/models/resnet18-5c106cde.pth\" to /root/.cache/torch/hub/checkpoints/resnet18-5c106cde.pth\n"
          ],
          "name": "stderr"
        },
        {
          "output_type": "display_data",
          "data": {
            "application/vnd.jupyter.widget-view+json": {
              "model_id": "daa7535e876a480e9c37a91972cfdbd5",
              "version_minor": 0,
              "version_major": 2
            },
            "text/plain": [
              "HBox(children=(FloatProgress(value=0.0, max=46827520.0), HTML(value='')))"
            ]
          },
          "metadata": {
            "tags": []
          }
        },
        {
          "output_type": "stream",
          "text": [
            "\n"
          ],
          "name": "stdout"
        }
      ]
    },
    {
      "cell_type": "code",
      "metadata": {
        "id": "SP-9sKx_Lydo"
      },
      "source": [
        "resnet.load_state_dict(torch.load('resnet18-full-best-state.pt')[\"model\"])\n",
        "opt.load_state_dict(torch.load('resnet18-full-best-state.pt')[\"optim\"])"
      ],
      "execution_count": 90,
      "outputs": []
    },
    {
      "cell_type": "code",
      "metadata": {
        "id": "7OdIUvafMCus"
      },
      "source": [
        "resnet.state_dict()"
      ],
      "execution_count": null,
      "outputs": []
    },
    {
      "cell_type": "code",
      "metadata": {
        "colab": {
          "base_uri": "https://localhost:8080/",
          "height": 662
        },
        "id": "Hpfkn1NAfeAE",
        "outputId": "8e368e4e-66a6-4681-950d-ab1a31c290cb"
      },
      "source": [
        "loss = nn.MSELoss().type(gpu_dtype)\n",
        "%time resnet_training_loss = custom_train(resnet, loader_train_full ,loss, opt, 10)\n",
        "# CPU times: user 34min 7s, 0.097\n",
        "# CPU times: user 34min 8s, 0.092\n",
        "# CPU times: user 34min 10s, 0.090"
      ],
      "execution_count": 93,
      "outputs": [
        {
          "output_type": "stream",
          "text": [
            "Starting epoch 1 / 10\n",
            "Starting epoch 2 / 10\n",
            "Starting epoch 3 / 10\n",
            "Starting epoch 4 / 10\n",
            "Starting epoch 5 / 10\n",
            "Starting epoch 6 / 10\n",
            "Starting epoch 7 / 10\n",
            "Starting epoch 8 / 10\n",
            "Starting epoch 9 / 10\n",
            "Starting epoch 10 / 10\n",
            "CPU times: user 34min 10s, sys: 26.1 s, total: 34min 37s\n",
            "Wall time: 34min 30s\n"
          ],
          "name": "stdout"
        },
        {
          "output_type": "display_data",
          "data": {
            "image/png": "[encoded data removed]",
            "text/plain": [
              "<Figure size 504x504 with 1 Axes>"
            ]
          },
          "metadata": {
            "tags": [],
            "needs_background": "light"
          }
        }
      ]
    },
    {
      "cell_type": "code",
      "metadata": {
        "id": "uRmedUgmZig3",
        "colab": {
          "base_uri": "https://localhost:8080/"
        },
        "outputId": "8189021d-9366-49b4-dad3-eea2806d6cf2"
      },
      "source": [
        "check_accuracy(resnet, loader_valid, 20000)"
      ],
      "execution_count": 121,
      "outputs": [
        {
          "output_type": "stream",
          "text": [
            "tensor(0.0820, device='cuda:0')\n",
            "tensor(0.0888, device='cuda:0')\n"
          ],
          "name": "stdout"
        }
      ]
    },
    {
      "cell_type": "code",
      "metadata": {
        "id": "xq3e4BOtL6oC"
      },
      "source": [
        "resnet.state_dict()"
      ],
      "execution_count": null,
      "outputs": []
    },
    {
      "cell_type": "code",
      "metadata": {
        "id": "rYJyfAfXtZfA"
      },
      "source": [
        "test_data_path = '/content/data/images_test_rev1'\n",
        "test_transform = transforms.Compose([\n",
        "    #transforms.CenterCrop(224),\n",
        "    transforms.Resize(int(224/2)),\n",
        "    transforms.ToTensor()\n",
        "    ])\n",
        "test_full = GalaxyTestDataset(test_data_path, test_transform)\n",
        "loader_test = torch.utils.data.DataLoader(test_full)"
      ],
      "execution_count": 118,
      "outputs": []
    },
    {
      "cell_type": "code",
      "metadata": {
        "id": "_8Bt7_fXlBbO",
        "colab": {
          "base_uri": "https://localhost:8080/"
        },
        "outputId": "08599b06-9f2f-4609-e86c-03b34143d425"
      },
      "source": [
        "%time write_prediction(resnet, loader_test, \"resnet_full-best2.csv\", df.columns.values)"
      ],
      "execution_count": 119,
      "outputs": [
        {
          "output_type": "stream",
          "text": [
            "   GalaxyID  Class1.1  Class1.2  ...  Class11.4  Class11.5  Class11.6\n",
            "0    100018  0.529693  0.459850  ...   0.000000   0.000000   0.042817\n",
            "1    100037  0.378437  0.585338  ...   0.000000   0.000000   0.000000\n",
            "2    100042  0.505008  0.450166  ...   0.000000   0.000000   0.006211\n",
            "3    100052  0.689458  0.265554  ...   0.000000   0.000000   0.016177\n",
            "4    100056  0.502228  0.460336  ...   0.000000   0.000000   0.000000\n",
            "5    100058  0.468486  0.487685  ...   0.015893   0.002693   0.072182\n",
            "6    100062  0.503396  0.463062  ...   0.014133   0.006804   0.000000\n",
            "7    100065  0.548384  0.413397  ...   0.004217   0.013041   0.013069\n",
            "8    100071  0.371210  0.618098  ...   0.003771   0.000000   0.085357\n",
            "9    100076  0.352528  0.604003  ...   0.022759   0.032479   0.075336\n",
            "\n",
            "[10 rows x 38 columns]\n",
            "CPU times: user 187 ms, sys: 19 ms, total: 206 ms\n",
            "Wall time: 207 ms\n"
          ],
          "name": "stdout"
        },
        {
          "output_type": "execute_result",
          "data": {
            "text/plain": [
              "array([[1.00018000e+05, 5.29692650e-01, 4.59850371e-01, ...,\n",
              "        0.00000000e+00, 0.00000000e+00, 4.28170227e-02],\n",
              "       [1.00037000e+05, 3.78437430e-01, 5.85338414e-01, ...,\n",
              "        0.00000000e+00, 0.00000000e+00, 0.00000000e+00],\n",
              "       [1.00042000e+05, 5.05008340e-01, 4.50166464e-01, ...,\n",
              "        0.00000000e+00, 0.00000000e+00, 6.21086359e-03],\n",
              "       ...,\n",
              "       [1.00000000e+00, 1.00000000e+00, 1.00000000e+00, ...,\n",
              "        1.00000000e+00, 1.00000000e+00, 1.00000000e+00],\n",
              "       [1.00000000e+00, 1.00000000e+00, 1.00000000e+00, ...,\n",
              "        1.00000000e+00, 1.00000000e+00, 1.00000000e+00],\n",
              "       [1.00000000e+00, 1.00000000e+00, 1.00000000e+00, ...,\n",
              "        1.00000000e+00, 1.00000000e+00, 1.00000000e+00]])"
            ]
          },
          "metadata": {
            "tags": []
          },
          "execution_count": 119
        }
      ]
    },
    {
      "cell_type": "code",
      "metadata": {
        "id": "rTo0yf3gDgbw"
      },
      "source": [
        "!cp resnet_full-best2.csv '/content/drive/Shareddrives/UCI CS175 Team23'"
      ],
      "execution_count": 113,
      "outputs": []
    },
    {
      "cell_type": "code",
      "metadata": {
        "id": "TLKAX-D5MRnw"
      },
      "source": [
        "resnet.state_dict()"
      ],
      "execution_count": null,
      "outputs": []
    },
    {
      "cell_type": "code",
      "metadata": {
        "id": "I5p4NujLHgNS"
      },
      "source": [
        "torch.save(resnet, \"resnet18-full-best2.pt\")\n",
        "torch.save({\"model\": resnet.state_dict(),\n",
        "            \"optim\": opt.state_dict()},\n",
        "           \"resnet18-full-best-state2.pt\")"
      ],
      "execution_count": 120,
      "outputs": []
    },
    {
      "cell_type": "code",
      "metadata": {
        "colab": {
          "base_uri": "https://localhost:8080/"
        },
        "id": "FUoSx3MtIKLK",
        "outputId": "c62f714b-d22f-4808-cf2f-b0a48b9674bb"
      },
      "source": [
        "!cp resnet18-full-best.pt '/content/drive/Shareddrives/UCI CS175 Team23'\n",
        "!cp resnet18-best-state.pt '/content/drive/Shareddrives/UCI CS175 Team23'"
      ],
      "execution_count": 86,
      "outputs": [
        {
          "output_type": "stream",
          "text": [
            "cp: cannot stat 'resnet18-best-state.pt': No such file or directory\n"
          ],
          "name": "stdout"
        }
      ]
    },
    {
      "cell_type": "code",
      "metadata": {
        "id": "7CkoCjV0MmaD"
      },
      "source": [
        "loaded_model = torch.load('/content/drive/Shareddrives/UCI CS175 Team23/effnet.pt' )"
      ],
      "execution_count": 37,
      "outputs": []
    },
    {
      "cell_type": "code",
      "metadata": {
        "id": "aKv8OpO0Z786"
      },
      "source": [
        "loaded_model.state_dict()"
      ],
      "execution_count": null,
      "outputs": []
    },
    {
      "cell_type": "code",
      "metadata": {
        "id": "qxVLDAUnpxZb"
      },
      "source": [
        "check_accuracy(loaded_model, loader_valid, 10)"
      ],
      "execution_count": null,
      "outputs": []
    },
    {
      "cell_type": "code",
      "metadata": {
        "colab": {
          "base_uri": "https://localhost:8080/"
        },
        "id": "Kc1py6YqDzSj",
        "outputId": "62786153-19f3-4713-cd69-00dd519ee438"
      },
      "source": [
        "%time test_solution = write_prediction(loaded_model, loader_test, \"numpy_temp.csv\",  df.columns.values)"
      ],
      "execution_count": null,
      "outputs": [
        {
          "output_type": "stream",
          "text": [
            "   GalaxyID  Class1.1  Class1.2  ...  Class11.4  Class11.5  Class11.6\n",
            "0    999996  0.662544  0.312697  ...    0.00267    0.00155   0.031011\n",
            "1         1  1.000000  1.000000  ...    1.00000    1.00000   1.000000\n",
            "2         1  1.000000  1.000000  ...    1.00000    1.00000   1.000000\n",
            "3         1  1.000000  1.000000  ...    1.00000    1.00000   1.000000\n",
            "4         1  1.000000  1.000000  ...    1.00000    1.00000   1.000000\n",
            "\n",
            "[5 rows x 38 columns]\n",
            "CPU times: user 30min 36s, sys: 11.8 s, total: 30min 47s\n",
            "Wall time: 30min 41s\n"
          ],
          "name": "stdout"
        }
      ]
    },
    {
      "cell_type": "code",
      "metadata": {
        "id": "OsVHdC-ncU9Y"
      },
      "source": [
        "!cp numpy_temp.csv \"/content/drive/Shareddrives/UCI CS175 Team23/\""
      ],
      "execution_count": null,
      "outputs": []
    },
    {
      "cell_type": "code",
      "metadata": {
        "id": "zvH3rJ00Skwl"
      },
      "source": [
        "!cp effnet.pt \"/content/drive/Shareddrives/UCI CS175 Team23/\""
      ],
      "execution_count": null,
      "outputs": []
    },
    {
      "cell_type": "code",
      "metadata": {
        "id": "BNPvlcodz90b"
      },
      "source": [
        "fixed_model_base = nn.Sequential( # You fill this in!\n",
        "                    nn.Conv2d(3, 32, kernel_size=7, stride=1),\n",
        "                    nn.ReLU(inplace=True),\n",
        "                    nn.BatchNorm2d(32),\n",
        "                    nn.MaxPool2d(2, 2),\n",
        "\n",
        "                    nn.Flatten(),\n",
        "                    nn.Linear(5408, 1024),\n",
        "                    nn.ReLU(inplace=True),\n",
        "                    nn.Linear(1024, 37)\n",
        "                )\n",
        "\n",
        "fixed_model_gpu = fixed_model_base.type(torch.cuda.FloatTensor)"
      ],
      "execution_count": null,
      "outputs": []
    }
  ]
}