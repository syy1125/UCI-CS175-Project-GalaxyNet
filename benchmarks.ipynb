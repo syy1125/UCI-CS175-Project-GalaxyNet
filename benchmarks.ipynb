{
 "cells": [
  {
   "cell_type": "markdown",
   "metadata": {
    "collapsed": true,
    "pycharm": {
     "name": "#%% md\n"
    }
   },
   "source": [
    "Place where we do benchmarks to see how various code impacts performance"
   ]
  },
  {
   "cell_type": "code",
   "execution_count": 1,
   "outputs": [],
   "source": [
    "import os\n",
    "import time\n",
    "import numpy as np\n",
    "from dataloader import DataLoader"
   ],
   "metadata": {
    "collapsed": false,
    "pycharm": {
     "name": "#%%\n"
    }
   }
  },
  {
   "cell_type": "code",
   "execution_count": 2,
   "outputs": [],
   "source": [
    "dirname = os.getcwd()\n",
    "loader = DataLoader(\n",
    "    os.path.join(dirname, '../images_training_rev1'),\n",
    "    os.path.join(dirname, '../training_solutions_rev1.csv')\n",
    ")\n",
    "batch_size = 500"
   ],
   "metadata": {
    "collapsed": false,
    "pycharm": {
     "name": "#%%\n"
    }
   }
  },
  {
   "cell_type": "code",
   "execution_count": 3,
   "outputs": [],
   "source": [
    "soln = loader.load_all_solutions()"
   ],
   "metadata": {
    "collapsed": false,
    "pycharm": {
     "name": "#%%\n"
    }
   }
  },
  {
   "cell_type": "code",
   "execution_count": 4,
   "outputs": [
    {
     "name": "stdout",
     "output_type": "stream",
     "text": [
      "Batch load 500 images time 1.07s\n",
      "500 images (RBG byte format) memory footprint 269.7MB\n"
     ]
    }
   ],
   "source": [
    "start_time = time.time()\n",
    "image_batch = loader.load_images(soln[:batch_size, 0].astype(int))\n",
    "print('Batch load {} images time {:.2f}s'.format(batch_size, time.time() - start_time))\n",
    "\n",
    "print('{} images (RBG byte format) memory footprint {:.1f}MB'.format(\n",
    "    batch_size,\n",
    "    (image_batch.size * image_batch.itemsize) / 1e6\n",
    "))"
   ],
   "metadata": {
    "collapsed": false,
    "pycharm": {
     "name": "#%%\n"
    }
   }
  },
  {
   "cell_type": "code",
   "execution_count": 5,
   "outputs": [
    {
     "name": "stdout",
     "output_type": "stream",
     "text": [
      "(500, 4, 424, 424)\n",
      "Preprocessing took 4.43s\n",
      "500 images (preprocessed) memory footprint 2876.4MB\n"
     ]
    }
   ],
   "source": [
    "from transforms import normalize_images, color_index, combine\n",
    "\n",
    "start_time = time.time()\n",
    "preprocessor = combine(normalize_images, color_index)\n",
    "image_norm_batch = preprocessor(image_batch)\n",
    "print(image_norm_batch.shape)\n",
    "print('Preprocessing took {:.2f}s'.format(time.time() - start_time))\n",
    "\n",
    "print('{} images (preprocessed) memory footprint {:.1f}MB'.format(\n",
    "    batch_size,\n",
    "    (image_norm_batch.size * image_norm_batch.itemsize) / 1e6\n",
    "))"
   ],
   "metadata": {
    "collapsed": false,
    "pycharm": {
     "name": "#%%\n"
    }
   }
  },
  {
   "cell_type": "code",
   "execution_count": 6,
   "outputs": [
    {
     "name": "stdout",
     "output_type": "stream",
     "text": [
      "torch.Size([500, 4, 424, 424])\n",
      "Preprocessing took 0.35s\n",
      "500 images (preprocessed) memory footprint 1438.2MB\n"
     ]
    }
   ],
   "source": [
    "import torch\n",
    "from torch.autograd import Variable\n",
    "from pytorch_preprocess import NormalizeImages, ColorIndex, Combine\n",
    "\n",
    "torch.cuda.synchronize()\n",
    "start_time = time.time()\n",
    "\n",
    "image_batch_var = Variable(torch.from_numpy(image_batch).type(torch.cuda.FloatTensor))\n",
    "preprocessor = Combine(NormalizeImages(), ColorIndex())\n",
    "image_norm_batch_torch = preprocessor(image_batch_var)\n",
    "\n",
    "torch.cuda.synchronize()\n",
    "\n",
    "print(image_norm_batch_torch.shape)\n",
    "print('Preprocessing took {:.2f}s'.format(time.time() - start_time))\n",
    "print('{} images (preprocessed) memory footprint {:.1f}MB'.format(\n",
    "    batch_size,\n",
    "    (image_norm_batch_torch.nelement() * image_norm_batch_torch.element_size()) / 1e6\n",
    "))"
   ],
   "metadata": {
    "collapsed": false,
    "pycharm": {
     "name": "#%%\n"
    }
   }
  },
  {
   "cell_type": "code",
   "execution_count": 8,
   "outputs": [
    {
     "name": "stdout",
     "output_type": "stream",
     "text": [
      "952 ms ± 4.22 ms per loop (mean ± std. dev. of 7 runs, 1 loop each)\n",
      "1.08 s ± 2.84 ms per loop (mean ± std. dev. of 7 runs, 1 loop each)\n",
      "1.01 s ± 2.78 ms per loop (mean ± std. dev. of 7 runs, 1 loop each)\n",
      "986 ms ± 5.24 ms per loop (mean ± std. dev. of 7 runs, 1 loop each)\n"
     ]
    }
   ],
   "source": [
    "rng = np.random.default_rng()\n",
    "\n",
    "%timeit loader.load_images(soln[:batch_size, 0].astype(np.int))\n",
    "%timeit loader.load_images(soln[:batch_size, 0].astype(np.int), rotations=rng.integers(0, 360, batch_size))\n",
    "%timeit loader.load_images(soln[:batch_size, 0].astype(np.int), translations=rng.integers(-4, 4, (batch_size, 2), endpoint=True))\n",
    "%timeit loader.load_images(soln[:batch_size, 0].astype(np.int), hflip=rng.choice([True, False], batch_size))"
   ],
   "metadata": {
    "collapsed": false,
    "pycharm": {
     "name": "#%%\n"
    }
   }
  }
 ],
 "metadata": {
  "kernelspec": {
   "display_name": "Python 3",
   "language": "python",
   "name": "python3"
  },
  "language_info": {
   "codemirror_mode": {
    "name": "ipython",
    "version": 2
   },
   "file_extension": ".py",
   "mimetype": "text/x-python",
   "name": "python",
   "nbconvert_exporter": "python",
   "pygments_lexer": "ipython2",
   "version": "2.7.6"
  }
 },
 "nbformat": 4,
 "nbformat_minor": 0
}