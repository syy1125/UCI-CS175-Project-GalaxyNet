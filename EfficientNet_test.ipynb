{
  "nbformat": 4,
  "nbformat_minor": 0,
  "metadata": {
    "colab": {
      "name": "EfficientNet-test.ipynb",
      "provenance": [],
      "toc_visible": true
    },
    "kernelspec": {
      "name": "python3",
      "display_name": "Python 3"
    },
    "language_info": {
      "name": "python"
    },
    "accelerator": "GPU"
  },
  "cells": [
    {
      "cell_type": "code",
      "metadata": {
        "id": "oIYSc5A5DVty"
      },
      "source": [
        "# %load_ext autoreload\n",
        "# %autoreload 2\n",
        "\n",
        "import numpy as np\n",
        "import matplotlib.pyplot as plt\n",
        "import time\n",
        "import copy \n",
        "import os\n",
        "\n",
        "import torch\n",
        "import torchvision\n",
        "\n",
        "import pandas as pd\n",
        "import sklearn\n",
        "\n",
        "from torchvision import transforms, utils\n",
        "import PIL\n",
        "from torch.autograd import Variable\n",
        "\n",
        "\n",
        "import torch.nn as nn\n",
        "import torch.optim as optim\n",
        "import torchvision.models as models"
      ],
      "execution_count": 1,
      "outputs": []
    },
    {
      "cell_type": "code",
      "metadata": {
        "colab": {
          "base_uri": "https://localhost:8080/"
        },
        "id": "ELhEao6tCIUm",
        "outputId": "faf207fe-5cf5-4d0d-e67c-ed21cc99df51"
      },
      "source": [
        "!pip install efficientnet_pytorch\n",
        "from efficientnet_pytorch import EfficientNet"
      ],
      "execution_count": 2,
      "outputs": [
        {
          "output_type": "stream",
          "text": [
            "Collecting efficientnet_pytorch\n",
            "  Downloading https://files.pythonhosted.org/packages/2e/a0/dd40b50aebf0028054b6b35062948da01123d7be38d08b6b1e5435df6363/efficientnet_pytorch-0.7.1.tar.gz\n",
            "Requirement already satisfied: torch in /usr/local/lib/python3.7/dist-packages (from efficientnet_pytorch) (1.8.1+cu101)\n",
            "Requirement already satisfied: numpy in /usr/local/lib/python3.7/dist-packages (from torch->efficientnet_pytorch) (1.19.5)\n",
            "Requirement already satisfied: typing-extensions in /usr/local/lib/python3.7/dist-packages (from torch->efficientnet_pytorch) (3.7.4.3)\n",
            "Building wheels for collected packages: efficientnet-pytorch\n",
            "  Building wheel for efficientnet-pytorch (setup.py) ... \u001b[?25l\u001b[?25hdone\n",
            "  Created wheel for efficientnet-pytorch: filename=efficientnet_pytorch-0.7.1-cp37-none-any.whl size=16443 sha256=beb486dd683a0e1ed342fc9e282fed4e4b815dd8cb38260e31b30bf044c948d2\n",
            "  Stored in directory: /root/.cache/pip/wheels/84/27/aa/c46d23c4e8cc72d41283862b1437e0b3ad318417e8ed7d5921\n",
            "Successfully built efficientnet-pytorch\n",
            "Installing collected packages: efficientnet-pytorch\n",
            "Successfully installed efficientnet-pytorch-0.7.1\n"
          ],
          "name": "stdout"
        }
      ]
    },
    {
      "cell_type": "code",
      "metadata": {
        "colab": {
          "base_uri": "https://localhost:8080/"
        },
        "id": "RJw-ykSkDgzf",
        "outputId": "78bf87dd-1c1e-4e8b-86ee-2db87955c841"
      },
      "source": [
        "from google.colab import drive\n",
        "drive.mount('/content/drive')"
      ],
      "execution_count": 3,
      "outputs": [
        {
          "output_type": "stream",
          "text": [
            "Mounted at /content/drive\n"
          ],
          "name": "stdout"
        }
      ]
    },
    {
      "cell_type": "code",
      "metadata": {
        "id": "hj4XaMLPDkT0"
      },
      "source": [
        "!mkdir -p data\n",
        "!cp '/content/drive/Shareddrives/UCI CS175 Team23/training_solutions_rev1.csv' ./data/\n",
        "!unzip -q -u '/content/drive/Shareddrives/UCI CS175 Team23/images_training_rev1.zip' -d ./data/"
      ],
      "execution_count": 4,
      "outputs": []
    },
    {
      "cell_type": "code",
      "metadata": {
        "colab": {
          "base_uri": "https://localhost:8080/"
        },
        "id": "2Fa5PEPbDk_F",
        "outputId": "7ac44a44-90f8-4453-dd61-54652c91455f"
      },
      "source": [
        "!ls data"
      ],
      "execution_count": 5,
      "outputs": [
        {
          "output_type": "stream",
          "text": [
            "images_training_rev1  training_solutions_rev1.csv\n"
          ],
          "name": "stdout"
        }
      ]
    },
    {
      "cell_type": "code",
      "metadata": {
        "id": "6Vh2DjHKHb2Q"
      },
      "source": [
        "training_data_path = '/content/data/images_training_rev1'\n",
        "solution_path = '/content/data/training_solutions_rev1.csv'"
      ],
      "execution_count": 6,
      "outputs": []
    },
    {
      "cell_type": "code",
      "metadata": {
        "id": "_MSic1brG-i6"
      },
      "source": [
        "df = pd.read_csv(solution_path)"
      ],
      "execution_count": 7,
      "outputs": []
    },
    {
      "cell_type": "code",
      "metadata": {
        "colab": {
          "base_uri": "https://localhost:8080/",
          "height": 224
        },
        "id": "5SJtyi2lG-2-",
        "outputId": "ef8bd019-9c41-4952-dc29-cbc5487f74fa"
      },
      "source": [
        "df.head()"
      ],
      "execution_count": 8,
      "outputs": [
        {
          "output_type": "execute_result",
          "data": {
            "text/html": [
              "<div>\n",
              "<style scoped>\n",
              "    .dataframe tbody tr th:only-of-type {\n",
              "        vertical-align: middle;\n",
              "    }\n",
              "\n",
              "    .dataframe tbody tr th {\n",
              "        vertical-align: top;\n",
              "    }\n",
              "\n",
              "    .dataframe thead th {\n",
              "        text-align: right;\n",
              "    }\n",
              "</style>\n",
              "<table border=\"1\" class=\"dataframe\">\n",
              "  <thead>\n",
              "    <tr style=\"text-align: right;\">\n",
              "      <th></th>\n",
              "      <th>GalaxyID</th>\n",
              "      <th>Class1.1</th>\n",
              "      <th>Class1.2</th>\n",
              "      <th>Class1.3</th>\n",
              "      <th>Class2.1</th>\n",
              "      <th>Class2.2</th>\n",
              "      <th>Class3.1</th>\n",
              "      <th>Class3.2</th>\n",
              "      <th>Class4.1</th>\n",
              "      <th>Class4.2</th>\n",
              "      <th>Class5.1</th>\n",
              "      <th>Class5.2</th>\n",
              "      <th>Class5.3</th>\n",
              "      <th>Class5.4</th>\n",
              "      <th>Class6.1</th>\n",
              "      <th>Class6.2</th>\n",
              "      <th>Class7.1</th>\n",
              "      <th>Class7.2</th>\n",
              "      <th>Class7.3</th>\n",
              "      <th>Class8.1</th>\n",
              "      <th>Class8.2</th>\n",
              "      <th>Class8.3</th>\n",
              "      <th>Class8.4</th>\n",
              "      <th>Class8.5</th>\n",
              "      <th>Class8.6</th>\n",
              "      <th>Class8.7</th>\n",
              "      <th>Class9.1</th>\n",
              "      <th>Class9.2</th>\n",
              "      <th>Class9.3</th>\n",
              "      <th>Class10.1</th>\n",
              "      <th>Class10.2</th>\n",
              "      <th>Class10.3</th>\n",
              "      <th>Class11.1</th>\n",
              "      <th>Class11.2</th>\n",
              "      <th>Class11.3</th>\n",
              "      <th>Class11.4</th>\n",
              "      <th>Class11.5</th>\n",
              "      <th>Class11.6</th>\n",
              "    </tr>\n",
              "  </thead>\n",
              "  <tbody>\n",
              "    <tr>\n",
              "      <th>0</th>\n",
              "      <td>100008</td>\n",
              "      <td>0.383147</td>\n",
              "      <td>0.616853</td>\n",
              "      <td>0.000000</td>\n",
              "      <td>0.000000</td>\n",
              "      <td>0.616853</td>\n",
              "      <td>0.038452</td>\n",
              "      <td>0.578401</td>\n",
              "      <td>0.418398</td>\n",
              "      <td>0.198455</td>\n",
              "      <td>0.0</td>\n",
              "      <td>0.104752</td>\n",
              "      <td>0.512101</td>\n",
              "      <td>0.000000</td>\n",
              "      <td>0.054453</td>\n",
              "      <td>0.945547</td>\n",
              "      <td>0.201463</td>\n",
              "      <td>0.181684</td>\n",
              "      <td>0.000000</td>\n",
              "      <td>0.0</td>\n",
              "      <td>0.027226</td>\n",
              "      <td>0.000000</td>\n",
              "      <td>0.027226</td>\n",
              "      <td>0.000000</td>\n",
              "      <td>0.000000</td>\n",
              "      <td>0.0</td>\n",
              "      <td>0.000000</td>\n",
              "      <td>0.0</td>\n",
              "      <td>0.000000</td>\n",
              "      <td>0.279952</td>\n",
              "      <td>0.138445</td>\n",
              "      <td>0.000000</td>\n",
              "      <td>0.000000</td>\n",
              "      <td>0.092886</td>\n",
              "      <td>0.0</td>\n",
              "      <td>0.0</td>\n",
              "      <td>0.0</td>\n",
              "      <td>0.325512</td>\n",
              "    </tr>\n",
              "    <tr>\n",
              "      <th>1</th>\n",
              "      <td>100023</td>\n",
              "      <td>0.327001</td>\n",
              "      <td>0.663777</td>\n",
              "      <td>0.009222</td>\n",
              "      <td>0.031178</td>\n",
              "      <td>0.632599</td>\n",
              "      <td>0.467370</td>\n",
              "      <td>0.165229</td>\n",
              "      <td>0.591328</td>\n",
              "      <td>0.041271</td>\n",
              "      <td>0.0</td>\n",
              "      <td>0.236781</td>\n",
              "      <td>0.160941</td>\n",
              "      <td>0.234877</td>\n",
              "      <td>0.189149</td>\n",
              "      <td>0.810851</td>\n",
              "      <td>0.000000</td>\n",
              "      <td>0.135082</td>\n",
              "      <td>0.191919</td>\n",
              "      <td>0.0</td>\n",
              "      <td>0.000000</td>\n",
              "      <td>0.140353</td>\n",
              "      <td>0.000000</td>\n",
              "      <td>0.048796</td>\n",
              "      <td>0.000000</td>\n",
              "      <td>0.0</td>\n",
              "      <td>0.012414</td>\n",
              "      <td>0.0</td>\n",
              "      <td>0.018764</td>\n",
              "      <td>0.000000</td>\n",
              "      <td>0.131378</td>\n",
              "      <td>0.459950</td>\n",
              "      <td>0.000000</td>\n",
              "      <td>0.591328</td>\n",
              "      <td>0.0</td>\n",
              "      <td>0.0</td>\n",
              "      <td>0.0</td>\n",
              "      <td>0.000000</td>\n",
              "    </tr>\n",
              "    <tr>\n",
              "      <th>2</th>\n",
              "      <td>100053</td>\n",
              "      <td>0.765717</td>\n",
              "      <td>0.177352</td>\n",
              "      <td>0.056931</td>\n",
              "      <td>0.000000</td>\n",
              "      <td>0.177352</td>\n",
              "      <td>0.000000</td>\n",
              "      <td>0.177352</td>\n",
              "      <td>0.000000</td>\n",
              "      <td>0.177352</td>\n",
              "      <td>0.0</td>\n",
              "      <td>0.117790</td>\n",
              "      <td>0.059562</td>\n",
              "      <td>0.000000</td>\n",
              "      <td>0.000000</td>\n",
              "      <td>1.000000</td>\n",
              "      <td>0.000000</td>\n",
              "      <td>0.741864</td>\n",
              "      <td>0.023853</td>\n",
              "      <td>0.0</td>\n",
              "      <td>0.000000</td>\n",
              "      <td>0.000000</td>\n",
              "      <td>0.000000</td>\n",
              "      <td>0.000000</td>\n",
              "      <td>0.000000</td>\n",
              "      <td>0.0</td>\n",
              "      <td>0.000000</td>\n",
              "      <td>0.0</td>\n",
              "      <td>0.000000</td>\n",
              "      <td>0.000000</td>\n",
              "      <td>0.000000</td>\n",
              "      <td>0.000000</td>\n",
              "      <td>0.000000</td>\n",
              "      <td>0.000000</td>\n",
              "      <td>0.0</td>\n",
              "      <td>0.0</td>\n",
              "      <td>0.0</td>\n",
              "      <td>0.000000</td>\n",
              "    </tr>\n",
              "    <tr>\n",
              "      <th>3</th>\n",
              "      <td>100078</td>\n",
              "      <td>0.693377</td>\n",
              "      <td>0.238564</td>\n",
              "      <td>0.068059</td>\n",
              "      <td>0.000000</td>\n",
              "      <td>0.238564</td>\n",
              "      <td>0.109493</td>\n",
              "      <td>0.129071</td>\n",
              "      <td>0.189098</td>\n",
              "      <td>0.049466</td>\n",
              "      <td>0.0</td>\n",
              "      <td>0.000000</td>\n",
              "      <td>0.113284</td>\n",
              "      <td>0.125280</td>\n",
              "      <td>0.320398</td>\n",
              "      <td>0.679602</td>\n",
              "      <td>0.408599</td>\n",
              "      <td>0.284778</td>\n",
              "      <td>0.000000</td>\n",
              "      <td>0.0</td>\n",
              "      <td>0.000000</td>\n",
              "      <td>0.096119</td>\n",
              "      <td>0.096119</td>\n",
              "      <td>0.000000</td>\n",
              "      <td>0.128159</td>\n",
              "      <td>0.0</td>\n",
              "      <td>0.000000</td>\n",
              "      <td>0.0</td>\n",
              "      <td>0.000000</td>\n",
              "      <td>0.094549</td>\n",
              "      <td>0.000000</td>\n",
              "      <td>0.094549</td>\n",
              "      <td>0.189098</td>\n",
              "      <td>0.000000</td>\n",
              "      <td>0.0</td>\n",
              "      <td>0.0</td>\n",
              "      <td>0.0</td>\n",
              "      <td>0.000000</td>\n",
              "    </tr>\n",
              "    <tr>\n",
              "      <th>4</th>\n",
              "      <td>100090</td>\n",
              "      <td>0.933839</td>\n",
              "      <td>0.000000</td>\n",
              "      <td>0.066161</td>\n",
              "      <td>0.000000</td>\n",
              "      <td>0.000000</td>\n",
              "      <td>0.000000</td>\n",
              "      <td>0.000000</td>\n",
              "      <td>0.000000</td>\n",
              "      <td>0.000000</td>\n",
              "      <td>0.0</td>\n",
              "      <td>0.000000</td>\n",
              "      <td>0.000000</td>\n",
              "      <td>0.000000</td>\n",
              "      <td>0.029383</td>\n",
              "      <td>0.970617</td>\n",
              "      <td>0.494587</td>\n",
              "      <td>0.439252</td>\n",
              "      <td>0.000000</td>\n",
              "      <td>0.0</td>\n",
              "      <td>0.000000</td>\n",
              "      <td>0.000000</td>\n",
              "      <td>0.000000</td>\n",
              "      <td>0.000000</td>\n",
              "      <td>0.029383</td>\n",
              "      <td>0.0</td>\n",
              "      <td>0.000000</td>\n",
              "      <td>0.0</td>\n",
              "      <td>0.000000</td>\n",
              "      <td>0.000000</td>\n",
              "      <td>0.000000</td>\n",
              "      <td>0.000000</td>\n",
              "      <td>0.000000</td>\n",
              "      <td>0.000000</td>\n",
              "      <td>0.0</td>\n",
              "      <td>0.0</td>\n",
              "      <td>0.0</td>\n",
              "      <td>0.000000</td>\n",
              "    </tr>\n",
              "  </tbody>\n",
              "</table>\n",
              "</div>"
            ],
            "text/plain": [
              "   GalaxyID  Class1.1  Class1.2  ...  Class11.4  Class11.5  Class11.6\n",
              "0    100008  0.383147  0.616853  ...        0.0        0.0   0.325512\n",
              "1    100023  0.327001  0.663777  ...        0.0        0.0   0.000000\n",
              "2    100053  0.765717  0.177352  ...        0.0        0.0   0.000000\n",
              "3    100078  0.693377  0.238564  ...        0.0        0.0   0.000000\n",
              "4    100090  0.933839  0.000000  ...        0.0        0.0   0.000000\n",
              "\n",
              "[5 rows x 38 columns]"
            ]
          },
          "metadata": {
            "tags": []
          },
          "execution_count": 8
        }
      ]
    },
    {
      "cell_type": "code",
      "metadata": {
        "colab": {
          "base_uri": "https://localhost:8080/",
          "height": 286
        },
        "id": "LF7JPg4KLNjS",
        "outputId": "b784a81b-d62b-4fd6-9598-0fb9aa38dd89"
      },
      "source": [
        "plt.imshow(plt.imread(training_data_path + \"/\" + str(df[\"GalaxyID\"][0]) + \".jpg\"))"
      ],
      "execution_count": 9,
      "outputs": [
        {
          "output_type": "execute_result",
          "data": {
            "text/plain": [
              "<matplotlib.image.AxesImage at 0x7f8430120390>"
            ]
          },
          "metadata": {
            "tags": []
          },
          "execution_count": 9
        },
        {
          "output_type": "display_data",
          "data": {
            "image/png": "[encoded data removed]",
            "text/plain": [
              "<Figure size 432x288 with 1 Axes>"
            ]
          },
          "metadata": {
            "tags": [],
            "needs_background": "light"
          }
        }
      ]
    },
    {
      "cell_type": "code",
      "metadata": {
        "id": "26xKnFbMKBib"
      },
      "source": [
        "# reference: https://pytorch.org/tutorials/beginner/data_loading_tutorial.html\n",
        "class GalaxyDataset(torch.utils.data.Dataset):\n",
        "  def __init__(self, csv_file, usr_root_dir, usr_transforms=None):\n",
        "    self.solution = pd.read_csv(solution_path)\n",
        "    self.root_dir = usr_root_dir\n",
        "    self.transforms = usr_transforms\n",
        "\n",
        "  def __len__(self):\n",
        "    return len(self.solution)\n",
        "  \n",
        "  def __getitem__(self, idx):\n",
        "    if torch.is_tensor(idx):\n",
        "      idx = idx.tolist()\n",
        "    \n",
        "    img_name = self.root_dir + \"/\" + str(self.solution.iloc[idx,0]) + \".jpg\"\n",
        "    id = self.solution.iloc[idx,0]\n",
        "    #image = plt.imread(img_name).T\n",
        "    image = PIL.Image.open((img_name))\n",
        "    image = self.transforms(image)\n",
        "    proba = self.solution.iloc[idx,1:].to_numpy()\n",
        "    #image = np.moveaxis(image.numpy()*255, 0, -1).astype(\"uint8\")\n",
        "    return  image, proba, id"
      ],
      "execution_count": 10,
      "outputs": []
    },
    {
      "cell_type": "code",
      "metadata": {
        "id": "sCAa_3yIRyWd"
      },
      "source": [
        "galaxy_transform = transforms.Compose([\n",
        "    transforms.CenterCrop(224),\n",
        "    transforms.Resize(int(224/2)),\n",
        "    transforms.RandomVerticalFlip(),\n",
        "    transforms.RandomHorizontalFlip(),\n",
        "    transforms.RandomAffine(50),\n",
        "    transforms.ToTensor()\n",
        "    ])\n",
        "\n",
        "tri_full = GalaxyDataset(solution_path, training_data_path, galaxy_transform)"
      ],
      "execution_count": 106,
      "outputs": []
    },
    {
      "cell_type": "code",
      "metadata": {
        "id": "HVKmAwrcSDgf"
      },
      "source": [
        "def show_image(sample_image):\n",
        "  example_img = np.moveaxis(sample_image.numpy()*255, 0, -1).astype(\"uint8\")\n",
        "  plt.imshow(example_img)\n"
      ],
      "execution_count": 12,
      "outputs": []
    },
    {
      "cell_type": "code",
      "metadata": {
        "colab": {
          "base_uri": "https://localhost:8080/",
          "height": 268
        },
        "id": "w7SzGkaKqOss",
        "outputId": "ff3e867d-1f37-4271-df34-b9e5d8e25bd7"
      },
      "source": [
        "show_image(tri_full[np.random.choice(40000)][0])"
      ],
      "execution_count": 126,
      "outputs": [
        {
          "output_type": "display_data",
          "data": {
            "image/png": "[encoded data removed]",
            "text/plain": [
              "<Figure size 432x288 with 1 Axes>"
            ]
          },
          "metadata": {
            "tags": [],
            "needs_background": "light"
          }
        }
      ]
    },
    {
      "cell_type": "code",
      "metadata": {
        "id": "LXSEqdHBKZZQ"
      },
      "source": [
        "a, b = torch.utils.data.random_split(tri_full, [43104, 18474], torch.Generator().manual_seed(1234))\n",
        "\n",
        "loader_train = torch.utils.data.DataLoader(a, batch_size=64)\n",
        "loader_valid = torch.utils.data.DataLoader(b)\n",
        "\n",
        "loader_train_full = torch.utils.data.DataLoader(tri_full, batch_size=100)\n",
        "\n",
        "gpu_dtype = torch.cuda.FloatTensor"
      ],
      "execution_count": 127,
      "outputs": []
    },
    {
      "cell_type": "code",
      "metadata": {
        "id": "sKMEywy1aTCE"
      },
      "source": [
        "def custom_train(model, loader, loss_fn, optimizer, num_epochs = 1):\n",
        "    epoch_log = []\n",
        "    for epoch in range(num_epochs):\n",
        "        print('Starting epoch %d / %d' % (epoch + 1, num_epochs))\n",
        "        model.train()\n",
        "\n",
        "        t_log = []\n",
        "        for t, (x, y, _) in enumerate(loader):\n",
        "            x_var = Variable(x.type(gpu_dtype))\n",
        "            y_var = Variable(y.type(gpu_dtype))\n",
        "            \n",
        "            scores = model(x_var)\n",
        "            loss = loss_fn(scores, y_var)\n",
        "            \n",
        "            if (t + 1) % 500 == 0:\n",
        "                print('t = %d, loss = %.4f' % (t + 1, loss.item()))\n",
        "            t_log.append(loss.item())\n",
        "\n",
        "            optimizer.zero_grad()\n",
        "            loss.backward()\n",
        "            optimizer.step()\n",
        "        print(\"Total iteration:\", len(t_log))\n",
        "        epoch_log.append(max(t_log))   \n",
        "    \n",
        "    fig = plt.figure(figsize=(7,7))\n",
        "    plt.plot(epoch_log)\n",
        "    plt.ylim(0, 3)\n",
        "    plt.title(\"Training Loss\")\n",
        "    plt.xlabel(\"Epochs\")\n",
        "    plt.ylabel(\"Loss\")\n",
        "    return epoch_log"
      ],
      "execution_count": 15,
      "outputs": []
    },
    {
      "cell_type": "code",
      "metadata": {
        "id": "zk8z2aQsoX-D"
      },
      "source": [
        "def check_accuracy(model, loader, num_sample):\n",
        "    model.eval() \n",
        "    #temp = torch.ones([1,37]).type(gpu_dtype)\n",
        "    temp = 0\n",
        "    count = 0\n",
        "    with torch.no_grad():\n",
        "      for x, y, id in loader:\n",
        "          # \n",
        "          x_var = Variable(x.type(gpu_dtype))\n",
        "          y_var = Variable(y.type(gpu_dtype))\n",
        "          \n",
        "          scores = model(x_var)\n",
        "          scores[scores < 0] = 0\n",
        "          diff = y_var - scores\n",
        "          \n",
        "\n",
        "          # print(scores)\n",
        "          # print(y_var)\n",
        "          # print(diff , \"\\n\")\n",
        "          #temp += torch.square(diff)\n",
        "          temp += torch.sqrt(torch.mean(torch.square(diff)))\n",
        "          #temp += diff\n",
        "          count += 1\n",
        "          if num_sample == count:\n",
        "            break\n",
        "    print(temp / num_sample)\n",
        "    #print(torch.sqrt(torch.mean(torch.div(temp, len(loader)))))\n",
        "    print( temp / len(loader) )\n",
        "    #print(torch.sqrt(torch.mean(torch.square(torch.div(temp, len(loader))))))\n",
        "  "
      ],
      "execution_count": 16,
      "outputs": []
    },
    {
      "cell_type": "code",
      "metadata": {
        "colab": {
          "base_uri": "https://localhost:8080/"
        },
        "id": "o--WLdfSlOfs",
        "outputId": "c20d9c9d-0e3d-4426-813b-7d677ee320b4"
      },
      "source": [
        "!cp '/content/drive/Shareddrives/UCI CS175 Team23/images_test_rev1.zip' ./data/\n",
        "!unzip -q -u '/content/drive/Shareddrives/UCI CS175 Team23/images_test_rev1.zip' -d ./data/\n",
        "!ls data"
      ],
      "execution_count": 17,
      "outputs": [
        {
          "output_type": "stream",
          "text": [
            "images_test_rev1      images_training_rev1\n",
            "images_test_rev1.zip  training_solutions_rev1.csv\n"
          ],
          "name": "stdout"
        }
      ]
    },
    {
      "cell_type": "code",
      "metadata": {
        "id": "_U9vWML7mNJp"
      },
      "source": [
        "class GalaxyTestDataset(torch.utils.data.Dataset):\n",
        "  def __init__(self, usr_root_dir, usr_transforms=None):\n",
        "    self.root_dir = usr_root_dir\n",
        "    self.transforms = usr_transforms\n",
        "    self.images_path = os.listdir(usr_root_dir)\n",
        "\n",
        "  def __len__(self):\n",
        "    return len(self.images_path)\n",
        "  \n",
        "  def __getitem__(self, idx):\n",
        "    if torch.is_tensor(idx):\n",
        "      idx = idx.tolist()\n",
        "\n",
        "    self.images_path.sort()\n",
        "    file_paths = self.images_path\n",
        "    img_name = self.root_dir + \"/\" + file_paths[idx]\n",
        "    id = int(file_paths[idx].split(\".\")[0])\n",
        "\n",
        "    image = PIL.Image.open((img_name))\n",
        "    image = self.transforms(image)\n",
        "\n",
        "    return  image, id"
      ],
      "execution_count": 18,
      "outputs": []
    },
    {
      "cell_type": "code",
      "metadata": {
        "id": "59RebqKkm-2h"
      },
      "source": [
        "test_data_path = '/content/data/images_test_rev1'\n",
        "test_full = GalaxyTestDataset(test_data_path, transforms.ToTensor())"
      ],
      "execution_count": 171,
      "outputs": []
    },
    {
      "cell_type": "code",
      "metadata": {
        "id": "OVls_sJP9UIs"
      },
      "source": [
        "def write_prediction(model, loader, output_name, header_list):\n",
        "  model.eval() \n",
        "  num_sample = len(loader)\n",
        "\n",
        "  numpy_temp = np.ones((num_sample, 38))\n",
        "\n",
        "  count = 0\n",
        "  with torch.no_grad():\n",
        "    for x, id in loader:\n",
        "        x_var = Variable(x.type(gpu_dtype))\n",
        "\n",
        "        scores = model(x_var)\n",
        "        scores[scores < 0] = 0\n",
        "        scores[scores > 1] = 1\n",
        "        \n",
        "        scores_numpy = scores.cpu().detach().numpy()\n",
        "\n",
        "        \n",
        "        numpy_temp[count][0] = id\n",
        "        numpy_temp[count][1:] = scores_numpy\n",
        "\n",
        "        count += 1\n",
        "\n",
        "        \n",
        "\n",
        "  something = pd.DataFrame(numpy_temp)\n",
        "\n",
        "  something.columns = header_list\n",
        "  something = something.astype({\"GalaxyID\": \"int64\"})\n",
        "\n",
        "  print(something.head())\n",
        "\n",
        "  something.to_csv(output_name,  index=False)\n",
        "\n",
        "  return numpy_temp"
      ],
      "execution_count": 176,
      "outputs": []
    },
    {
      "cell_type": "code",
      "metadata": {
        "colab": {
          "base_uri": "https://localhost:8080/"
        },
        "id": "pv6iz9LGDm87",
        "outputId": "407b3fbc-ba0b-43d1-de38-76c7121cea12"
      },
      "source": [
        "effnet = EfficientNet.from_pretrained(\"efficientnet-b2\")\n",
        "print(effnet._fc)\n",
        "#effnet._fc = nn.Linear(1280, 37)\n",
        "#effnet._fc = nn.Linear(1536, 10)\n",
        "effnet._fc = nn.Linear(1408, 37)\n",
        "effnet.cuda()\n",
        "opt = optim.SGD(effnet.parameters(), lr=0.1)"
      ],
      "execution_count": 140,
      "outputs": [
        {
          "output_type": "stream",
          "text": [
            "Loaded pretrained weights for efficientnet-b2\n",
            "Linear(in_features=1408, out_features=1000, bias=True)\n"
          ],
          "name": "stdout"
        }
      ]
    },
    {
      "cell_type": "code",
      "metadata": {
        "id": "3ulfjdVOFofB"
      },
      "source": [
        "effnet.load_state_dict(torch.load(\"effnet-full-state.pt\")[\"model\"])\n",
        "opt.load_state_dict(torch.load(\"effnet-full-state.pt\")[\"optim\"])"
      ],
      "execution_count": 149,
      "outputs": []
    },
    {
      "cell_type": "code",
      "metadata": {
        "id": "W3IzdTO6NBYD"
      },
      "source": [
        "effnet.state_dict()"
      ],
      "execution_count": null,
      "outputs": []
    },
    {
      "cell_type": "code",
      "metadata": {
        "colab": {
          "base_uri": "https://localhost:8080/",
          "height": 1000
        },
        "id": "PYaTF26gnwh1",
        "outputId": "be060579-5305-4d61-f009-02f75aa3e101"
      },
      "source": [
        "loss = nn.MSELoss().type(gpu_dtype)\n",
        "%time effnet_training_loss = custom_train(effnet, loader_train_full, loss, opt, 10)\n",
        "\n",
        "# CPU times: user 1h 20min 17s, result: 0.11\n",
        "# CPU times: user 21min 43s, result: 0.112\n",
        "# CPU times: user 21min 43s, result: 0.103\n",
        "# CPU times: user 43min 32s, result: 0.096"
      ],
      "execution_count": 151,
      "outputs": [
        {
          "output_type": "stream",
          "text": [
            "Starting epoch 1 / 10\n",
            "t = 500, loss = 0.0136\n",
            "Total iteration: 616\n",
            "Starting epoch 2 / 10\n",
            "t = 500, loss = 0.0137\n",
            "Total iteration: 616\n",
            "Starting epoch 3 / 10\n",
            "t = 500, loss = 0.0136\n",
            "Total iteration: 616\n",
            "Starting epoch 4 / 10\n",
            "t = 500, loss = 0.0130\n",
            "Total iteration: 616\n",
            "Starting epoch 5 / 10\n",
            "t = 500, loss = 0.0127\n",
            "Total iteration: 616\n",
            "Starting epoch 6 / 10\n",
            "t = 500, loss = 0.0126\n",
            "Total iteration: 616\n",
            "Starting epoch 7 / 10\n",
            "t = 500, loss = 0.0133\n",
            "Total iteration: 616\n",
            "Starting epoch 8 / 10\n",
            "t = 500, loss = 0.0126\n",
            "Total iteration: 616\n",
            "Starting epoch 9 / 10\n",
            "t = 500, loss = 0.0121\n",
            "Total iteration: 616\n",
            "Starting epoch 10 / 10\n",
            "t = 500, loss = 0.0120\n",
            "Total iteration: 616\n",
            "CPU times: user 43min 32s, sys: 2min 57s, total: 46min 30s\n",
            "Wall time: 46min 26s\n"
          ],
          "name": "stdout"
        },
        {
          "output_type": "display_data",
          "data": {
            "image/png": "[encoded data removed]",
            "text/plain": [
              "<Figure size 504x504 with 1 Axes>"
            ]
          },
          "metadata": {
            "tags": [],
            "needs_background": "light"
          }
        }
      ]
    },
    {
      "cell_type": "code",
      "metadata": {
        "colab": {
          "base_uri": "https://localhost:8080/"
        },
        "id": "W7GjbhOa91XJ",
        "outputId": "8509a6fc-8936-42e0-b5dd-9eda692b9a83"
      },
      "source": [
        "check_accuracy(effnet, loader_valid, 1000)"
      ],
      "execution_count": 162,
      "outputs": [
        {
          "output_type": "stream",
          "text": [
            "tensor(0.0948, device='cuda:0')\n",
            "tensor(0.0051, device='cuda:0')\n"
          ],
          "name": "stdout"
        }
      ]
    },
    {
      "cell_type": "code",
      "metadata": {
        "id": "rYJyfAfXtZfA"
      },
      "source": [
        "loader_test = torch.utils.data.DataLoader(test_full)"
      ],
      "execution_count": 172,
      "outputs": []
    },
    {
      "cell_type": "code",
      "metadata": {
        "id": "_8Bt7_fXlBbO",
        "colab": {
          "base_uri": "https://localhost:8080/"
        },
        "outputId": "bef41981-1790-445c-b413-ec68f4e0503d"
      },
      "source": [
        "%time write_prediction(effnet, loader_test, \"effnet-b2-full-best.csv\", df.columns.values)"
      ],
      "execution_count": 177,
      "outputs": [
        {
          "output_type": "stream",
          "text": [
            "   GalaxyID  Class1.1  Class1.2  ...  Class11.4  Class11.5  Class11.6\n",
            "0    100018  0.531893  0.363992  ...    0.00039   0.003843   0.028259\n",
            "1    100037  0.475053  0.416950  ...    0.00000   0.012312   0.034921\n",
            "2    100042  0.575008  0.324604  ...    0.00000   0.000482   0.005065\n",
            "3    100052  0.504287  0.386176  ...    0.00000   0.015998   0.025461\n",
            "4    100056  0.456807  0.440469  ...    0.00000   0.000000   0.029110\n",
            "\n",
            "[5 rows x 38 columns]\n",
            "CPU times: user 27min 53s, sys: 13.3 s, total: 28min 6s\n",
            "Wall time: 28min 3s\n"
          ],
          "name": "stdout"
        },
        {
          "output_type": "execute_result",
          "data": {
            "text/plain": [
              "array([[1.00018000e+05, 5.31893075e-01, 3.63991976e-01, ...,\n",
              "        3.89633700e-04, 3.84312775e-03, 2.82591525e-02],\n",
              "       [1.00037000e+05, 4.75053072e-01, 4.16949809e-01, ...,\n",
              "        0.00000000e+00, 1.23118833e-02, 3.49210240e-02],\n",
              "       [1.00042000e+05, 5.75008452e-01, 3.24603558e-01, ...,\n",
              "        0.00000000e+00, 4.81911469e-04, 5.06481528e-03],\n",
              "       ...,\n",
              "       [9.99990000e+05, 4.47033346e-01, 4.53272641e-01, ...,\n",
              "        0.00000000e+00, 1.80203142e-03, 1.93192475e-02],\n",
              "       [9.99994000e+05, 4.22322512e-01, 4.75064099e-01, ...,\n",
              "        1.44346710e-03, 8.65598209e-03, 5.28387874e-02],\n",
              "       [9.99996000e+05, 5.08842707e-01, 3.73322517e-01, ...,\n",
              "        4.25596116e-03, 2.01229658e-03, 2.35466138e-02]])"
            ]
          },
          "metadata": {
            "tags": []
          },
          "execution_count": 177
        }
      ]
    },
    {
      "cell_type": "code",
      "metadata": {
        "id": "FSzubL0weXuv"
      },
      "source": [
        "torch.save(effnet, \"effnet-b2-full-best.pt\")\n",
        "torch.save({\"model\": effnet.state_dict(),\n",
        "            \"optim\": opt.state_dict()},\n",
        "           \"effnet-full-state-best.pt\")"
      ],
      "execution_count": 178,
      "outputs": []
    },
    {
      "cell_type": "code",
      "metadata": {
        "id": "dlh-T5XgM6YK"
      },
      "source": [
        "effnet.state_dict()"
      ],
      "execution_count": null,
      "outputs": []
    },
    {
      "cell_type": "code",
      "metadata": {
        "id": "rTo0yf3gDgbw"
      },
      "source": [
        "!cp effnet-b2-full-best.csv '/content/drive/Shareddrives/UCI CS175 Team23'\n",
        "!cp effnet-b2-full-best.pt '/content/drive/Shareddrives/UCI CS175 Team23'\n",
        "!cp effnet-full-state-best.pt '/content/drive/Shareddrives/UCI CS175 Team23'"
      ],
      "execution_count": 179,
      "outputs": []
    },
    {
      "cell_type": "code",
      "metadata": {
        "id": "l1BupR1dVegB"
      },
      "source": [
        "%time check_accuracy(effnet, loader_valid, 1)"
      ],
      "execution_count": null,
      "outputs": []
    },
    {
      "cell_type": "code",
      "metadata": {
        "id": "TLKAX-D5MRnw"
      },
      "source": [
        "torch.save(effnet, \"effnet.pt\")"
      ],
      "execution_count": null,
      "outputs": []
    },
    {
      "cell_type": "code",
      "metadata": {
        "id": "uRmedUgmZig3"
      },
      "source": [
        "effnet.state_dict()"
      ],
      "execution_count": null,
      "outputs": []
    },
    {
      "cell_type": "code",
      "metadata": {
        "id": "7CkoCjV0MmaD"
      },
      "source": [
        "loaded_model = torch.load('/content/drive/Shareddrives/UCI CS175 Team23/effnet.pt' )"
      ],
      "execution_count": null,
      "outputs": []
    },
    {
      "cell_type": "code",
      "metadata": {
        "id": "aKv8OpO0Z786"
      },
      "source": [
        "loaded_model.state_dict()"
      ],
      "execution_count": null,
      "outputs": []
    },
    {
      "cell_type": "code",
      "metadata": {
        "id": "qxVLDAUnpxZb"
      },
      "source": [
        "check_accuracy(loaded_model, loader_valid, 10)"
      ],
      "execution_count": null,
      "outputs": []
    },
    {
      "cell_type": "code",
      "metadata": {
        "colab": {
          "base_uri": "https://localhost:8080/"
        },
        "id": "Kc1py6YqDzSj",
        "outputId": "62786153-19f3-4713-cd69-00dd519ee438"
      },
      "source": [
        "%time test_solution = write_prediction(loaded_model, loader_test, \"numpy_temp.csv\",  df.columns.values)"
      ],
      "execution_count": null,
      "outputs": [
        {
          "output_type": "stream",
          "text": [
            "   GalaxyID  Class1.1  Class1.2  ...  Class11.4  Class11.5  Class11.6\n",
            "0    999996  0.662544  0.312697  ...    0.00267    0.00155   0.031011\n",
            "1         1  1.000000  1.000000  ...    1.00000    1.00000   1.000000\n",
            "2         1  1.000000  1.000000  ...    1.00000    1.00000   1.000000\n",
            "3         1  1.000000  1.000000  ...    1.00000    1.00000   1.000000\n",
            "4         1  1.000000  1.000000  ...    1.00000    1.00000   1.000000\n",
            "\n",
            "[5 rows x 38 columns]\n",
            "CPU times: user 30min 36s, sys: 11.8 s, total: 30min 47s\n",
            "Wall time: 30min 41s\n"
          ],
          "name": "stdout"
        }
      ]
    },
    {
      "cell_type": "code",
      "metadata": {
        "id": "OsVHdC-ncU9Y"
      },
      "source": [
        "!cp numpy_temp.csv \"/content/drive/Shareddrives/UCI CS175 Team23/\""
      ],
      "execution_count": null,
      "outputs": []
    },
    {
      "cell_type": "code",
      "metadata": {
        "id": "zvH3rJ00Skwl"
      },
      "source": [
        "!cp effnet.pt \"/content/drive/Shareddrives/UCI CS175 Team23/\""
      ],
      "execution_count": null,
      "outputs": []
    },
    {
      "cell_type": "code",
      "metadata": {
        "id": "BNPvlcodz90b"
      },
      "source": [
        "fixed_model_base = nn.Sequential( # You fill this in!\n",
        "                    nn.Conv2d(3, 32, kernel_size=7, stride=1),\n",
        "                    nn.ReLU(inplace=True),\n",
        "                    nn.BatchNorm2d(32),\n",
        "                    nn.MaxPool2d(2, 2),\n",
        "\n",
        "                    nn.Flatten(),\n",
        "                    nn.Linear(5408, 1024),\n",
        "                    nn.ReLU(inplace=True),\n",
        "                    nn.Linear(1024, 37)\n",
        "                )\n",
        "\n",
        "fixed_model_gpu = fixed_model_base.type(torch.cuda.FloatTensor)"
      ],
      "execution_count": null,
      "outputs": []
    }
  ]
}